{
 "cells": [
  {
   "cell_type": "markdown",
   "metadata": {},
   "source": [
    "# Tabular RL maze examples\n",
    "\n",
    "Lets start with preliminaruies\n"
   ]
  },
  {
   "cell_type": "code",
   "execution_count": 12,
   "metadata": {
    "collapsed": true
   },
   "outputs": [],
   "source": [
    "## Reinforcement learning in 1d maze\n",
    "import numpy as np\n",
    "import matplotlib.pyplot as plt\n",
    "\n",
    "def tau(s,a):\n",
    "    if s==0 or s==4:  return(s)\n",
    "    else:      return(s+a)\n",
    "def rho(s,a):\n",
    "    return(s==1 and a==-1)+2*(s==3 and a==1)    \n",
    "def calc_policy(Q):\n",
    "    policy=np.zeros(5)\n",
    "    for s in range(0,5):\n",
    "        action_idx=np.argmax(Q[s,:])\n",
    "        policy[s]=2*action_idx-1\n",
    "        policy[0]=policy[4]=0\n",
    "    return policy.astype(int)\n",
    "def idx(a):\n",
    "    return(int((a+1)/2))\n",
    "gamma=0.5;"
   ]
  },
  {
   "cell_type": "markdown",
   "metadata": {},
   "source": [
    "## Analytic solution\n",
    "\n"
   ]
  },
  {
   "cell_type": "code",
   "execution_count": 4,
   "metadata": {
    "scrolled": true
   },
   "outputs": [
    {
     "name": "stdout",
     "output_type": "stream",
     "text": [
      "--> Analytic solution for optimal policy\n",
      "Q values: \n",
      " [[ 0.   1.   0.5  0.5  0. ]\n",
      " [ 0.   0.5  1.   2.   0. ]]\n",
      "policy: \n",
      " [ 0 -1  1  1  0]\n",
      "[ 0.  0.  1.  0.  0.  0.  0.  2.  0.  0.]\n"
     ]
    }
   ],
   "source": [
    "print('--> Analytic solution for optimal policy')\n",
    "\n",
    "# Defining reward vector R\n",
    "i=0; R=np.zeros(10)\n",
    "for s in range(0,5):\n",
    "    for a in range(-1,2,2):       \n",
    "        R[i]=rho(s,a)\n",
    "        i += 1\n",
    "# Defining transition matrix\n",
    "T=np.zeros([10,10]);\n",
    "T[0,0]=1; T[1,1]=1; T[2,0]=1; T[3,5]=1; T[4,2]=1\n",
    "T[5,7]=1; T[6,5]=1; T[7,9]=1; T[8,8]=1; T[9,9]=1\n",
    "\n",
    "# Calculate Q-function\n",
    "Q=np.linalg.inv(np.eye(10)-gamma*T) @ np.transpose(R)\n",
    "Q=np.reshape(Q,[5,2])\n",
    "\n",
    "policy=calc_policy(Q)\n",
    "print('Q values: \\n',np.transpose(Q))\n",
    "print('policy: \\n',np.transpose(policy))\n",
    "Qana=Q\n",
    "print(R)"
   ]
  },
  {
   "cell_type": "markdown",
   "metadata": {},
   "source": [
    "## Dynamic Programing"
   ]
  },
  {
   "cell_type": "code",
   "execution_count": 84,
   "metadata": {},
   "outputs": [
    {
     "name": "stdout",
     "output_type": "stream",
     "text": [
      "\n",
      "--> Dynamic Programing\n",
      "Q values: \n",
      " [[ 0.   1.   0.5  0.5  0. ]\n",
      " [ 0.   0.5  1.   2.   0. ]]\n",
      "policy: \n",
      " [ 0 -1  1  1  0]\n"
     ]
    }
   ],
   "source": [
    "print('\\n--> Dynamic Programing')\n",
    "\n",
    "Q=np.zeros([5,2])\n",
    "for iter in range(3):\n",
    "    for s in range(0,5): \n",
    "        for a in range(-1,2,2):\n",
    "            act = np.int(policy[tau(s,a)])\n",
    "            Q[s,idx(a)]=rho(s,a)+gamma*Q[tau(s,a),idx(act)]\n",
    "\n",
    "policy=calc_policy(Q); \n",
    "print('Q values: \\n',np.transpose(Q))\n",
    "print('policy: \\n',np.transpose(policy))"
   ]
  },
  {
   "cell_type": "markdown",
   "metadata": {},
   "source": [
    "## Policy iteration"
   ]
  },
  {
   "cell_type": "code",
   "execution_count": 85,
   "metadata": {},
   "outputs": [
    {
     "name": "stdout",
     "output_type": "stream",
     "text": [
      "\n",
      "--> Policy iteration\n",
      "Q values: \n",
      " [[ 0.   1.   0.5  0.5  0. ]\n",
      " [ 0.   0.5  1.   2.   0. ]]\n",
      "policy: \n",
      " [ 0 -1  1  1  0]\n"
     ]
    }
   ],
   "source": [
    "print('\\n--> Policy iteration')\n",
    "\n",
    "Q=np.zeros([5,2])\n",
    "policy=calc_policy(Q)\n",
    "for iter in range(3):\n",
    "    for s in range(0,5): \n",
    "        for a in range(-1,2,2):\n",
    "            act = np.int(policy[tau(s,a)])\n",
    "            Q[s,idx(a)]=rho(s,a)+gamma*Q[tau(s,a),idx(act)]\n",
    "    policy=calc_policy(Q)\n",
    "    \n",
    "print('Q values: \\n',np.transpose(Q))\n",
    "print('policy: \\n',np.transpose(policy))"
   ]
  },
  {
   "cell_type": "markdown",
   "metadata": {},
   "source": [
    "## Q-iteration"
   ]
  },
  {
   "cell_type": "code",
   "execution_count": 86,
   "metadata": {},
   "outputs": [
    {
     "name": "stdout",
     "output_type": "stream",
     "text": [
      "\n",
      "--> Q-iteration\n",
      "Q values: \n",
      " [[ 0.   1.   0.5  0.   0. ]\n",
      " [ 0.   0.   1.   2.   0. ]]\n",
      "policy: \n",
      " [ 0 -1  1  1  0]\n"
     ]
    }
   ],
   "source": [
    "print('\\n--> Q-iteration')\n",
    "\n",
    "Q_new=np.zeros([5,2])\n",
    "Q=np.zeros([5,2])\n",
    "policy = np.zeros(5)\n",
    "for iter in range(2):\n",
    "    for s in range(0,5): \n",
    "        for a in range(-1,2,2):\n",
    "            maxValue = np.maximum(Q[tau(s,a),0],Q[tau(s,a),1])\n",
    "            Q_new[s,idx(a)]=rho(s,a)+gamma*maxValue\n",
    "    Q=np.copy(Q_new)\n",
    "\n",
    "policy=calc_policy(Q)\n",
    "print('Q values: \\n',np.transpose(Q))\n",
    "print('policy: \\n',np.transpose(policy))"
   ]
  },
  {
   "cell_type": "markdown",
   "metadata": {},
   "source": [
    "## SARSA"
   ]
  },
  {
   "cell_type": "code",
   "execution_count": 13,
   "metadata": {},
   "outputs": [
    {
     "name": "stdout",
     "output_type": "stream",
     "text": [
      "\n",
      "--> SARSA\n",
      "Q values: \n",
      " [[ 0.   1.   0.5  0.5  0. ]\n",
      " [ 0.   0.5  1.   2.   0. ]]\n",
      "policy: \n",
      " [ 0 -1  1  1  0]\n"
     ]
    },
    {
     "data": {
      "image/png": "[encoded data removed]",
      "text/plain": [
       "<matplotlib.figure.Figure at 0x298a80edf28>"
      ]
     },
     "metadata": {},
     "output_type": "display_data"
    }
   ],
   "source": [
    "print('\\n--> SARSA')\n",
    "\n",
    "Q=np.zeros([5,2])\n",
    "error = []\n",
    "alpha=1;\n",
    "for trial in range(500):\n",
    "    policy=calc_policy(Q)\n",
    "    s=2\n",
    "    for t in range(0,5):\n",
    "        a=policy[s]\n",
    "        if np.random.rand()<0.1: a=-a #epsilon greedy\n",
    "        a2=idx(policy[tau(s,a)])\n",
    "        Q[s,idx(a)]=Q[s,idx(a)]+alpha*(rho(s,a)+gamma*Q[tau(s,a),a2]-Q[s,idx(a)])\n",
    "        s=tau(s,a)\n",
    "    error.append(np.sum(np.sum(np.abs(np.subtract(Q,Qana))))) \n",
    "\n",
    "print('Q values: \\n',np.transpose(Q))\n",
    "print('policy: \\n',np.transpose(policy))\n",
    "plt.figure(); plt.plot(error); plt.show()"
   ]
  },
  {
   "cell_type": "markdown",
   "metadata": {},
   "source": [
    "## Q-Learning"
   ]
  },
  {
   "cell_type": "code",
   "execution_count": 88,
   "metadata": {},
   "outputs": [
    {
     "name": "stdout",
     "output_type": "stream",
     "text": [
      "\n",
      "--> Q-Learning:\n",
      "Q values: \n",
      " [[ 0.          1.          0.5         0.5         0.        ]\n",
      " [ 0.          0.49999932  1.          2.          0.        ]]\n",
      "policy: \n",
      " [ 0 -1  1  1  0]\n"
     ]
    },
    {
     "data": {
      "image/png": "[encoded data removed]",
      "text/plain": [
       "<matplotlib.figure.Figure at 0x1e7e638b9b0>"
      ]
     },
     "metadata": {},
     "output_type": "display_data"
    }
   ],
   "source": [
    "print('\\n--> Q-Learning:')\n",
    "\n",
    "Q=np.zeros([5,2])\n",
    "alpha=0.2\n",
    "error = []\n",
    "for trial in range(5000):\n",
    "    policy=calc_policy(Q)\n",
    "    s=2\n",
    "    for t in range(0,5):\n",
    "        a=policy[s]\n",
    "        if np.random.rand()<0.1: a=-a #epsilon greedy\n",
    "        Q[s,idx(a)]=Q[s,idx(a)]+alpha*(rho(s,a)+gamma*np.maximum(Q[tau(s,a),0],Q[tau(s,a),1])-Q[s,idx(a)])\n",
    "        s=tau(s,a)\n",
    "    error.append(np.sum(np.sum(np.abs(np.subtract(Q,Qana))))) \n",
    "\n",
    "print('Q values: \\n',np.transpose(Q))\n",
    "print('policy: \\n',np.transpose(policy))\n",
    "plt.plot(error,'r'); plt.show()"
   ]
  },
  {
   "cell_type": "markdown",
   "metadata": {},
   "source": [
    "##  TD(lambda) for Q-Learning"
   ]
  },
  {
   "cell_type": "code",
   "execution_count": 89,
   "metadata": {},
   "outputs": [
    {
     "name": "stdout",
     "output_type": "stream",
     "text": [
      "\n",
      "--> TD(lambda) for Q-Learning:\n",
      "[ 0.    0.    0.05  1.    0.  ]\n",
      "Q values: \n",
      " [[ 0.    1.    0.5   0.5   0.  ]\n",
      " [ 0.    0.25  1.    2.    0.  ]]\n",
      "policy: \n",
      " [ 0 -1  1  1  0]\n"
     ]
    },
    {
     "data": {
      "image/png": "[encoded data removed]",
      "text/plain": [
       "<matplotlib.figure.Figure at 0x1e7e4e75390>"
      ]
     },
     "metadata": {},
     "output_type": "display_data"
    }
   ],
   "source": [
    "print('\\n--> TD(lambda) for Q-Learning:')\n",
    "\n",
    "Q=np.zeros([5,2])\n",
    "alpha=1\n",
    "lam=0.1\n",
    "error = []\n",
    "\n",
    "for trial in range(100):\n",
    "    s=2; eligibility=np.zeros(5);\n",
    "    for t in range(0,5):\n",
    "        if s==0 or s==4: break\n",
    "        eligibility*=gamma*lam\n",
    "        eligibility[s]=1\n",
    "        action_idx=np.argmax(Q[s,:])\n",
    "        a=2*action_idx-1\n",
    "        if np.random.rand()<0.1: a=-a #epsilon greedy\n",
    "\n",
    "        for x in range(1,4):\n",
    "           Q[x,idx(a)]=Q[x,idx(a)]+alpha*(rho(x,a)+gamma*np.maximum(Q[tau(x,a),0],Q[tau(x,a),1])-Q[x,idx(a)])*eligibility[x]\n",
    "        s=tau(s,a)\n",
    "        error.append(np.sum(np.sum(np.abs(np.subtract(Q,Qana))))) \n",
    "print(eligibility)\n",
    "print('Q values: \\n',np.transpose(Q))\n",
    "print('policy: \\n',np.transpose(policy))\n",
    "plt.plot(error,'r'); plt.show()"
   ]
  }
 ],
 "metadata": {
  "kernelspec": {
   "display_name": "Python 3",
   "language": "python",
   "name": "python3"
  },
  "language_info": {
   "codemirror_mode": {
    "name": "ipython",
    "version": 3
   },
   "file_extension": ".py",
   "mimetype": "text/x-python",
   "name": "python",
   "nbconvert_exporter": "python",
   "pygments_lexer": "ipython3",
   "version": "3.6.1"
  }
 },
 "nbformat": 4,
 "nbformat_minor": 2
}
